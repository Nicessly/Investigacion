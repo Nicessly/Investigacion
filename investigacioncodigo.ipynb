{
  "nbformat": 4,
  "nbformat_minor": 0,
  "metadata": {
    "colab": {
      "provenance": [],
      "authorship_tag": "ABX9TyO438V082p8hbT25C5aShDJ",
      "include_colab_link": true
    },
    "kernelspec": {
      "name": "python3",
      "display_name": "Python 3"
    },
    "language_info": {
      "name": "python"
    }
  },
  "cells": [
    {
      "cell_type": "markdown",
      "metadata": {
        "id": "view-in-github",
        "colab_type": "text"
      },
      "source": [
        "<a href=\"https://colab.research.google.com/github/Nicessly/Investigacion/blob/main/investigacioncodigo.ipynb\" target=\"_parent\"><img src=\"https://colab.research.google.com/assets/colab-badge.svg\" alt=\"Open In Colab\"/></a>"
      ]
    },
    {
      "cell_type": "code",
      "execution_count": null,
      "metadata": {
        "colab": {
          "base_uri": "https://localhost:8080/"
        },
        "id": "IGag1y_oin_I",
        "outputId": "fd397641-ae89-4552-8952-af426787af20"
      },
      "outputs": [
        {
          "output_type": "stream",
          "name": "stdout",
          "text": [
            "Matriz original (0 indica sin calificar):\n",
            "[[5 3 0 1]\n",
            " [4 0 0 1]\n",
            " [1 1 0 5]\n",
            " [0 0 5 4]\n",
            " [1 0 4 0]]\n",
            "\n",
            "Matriz reconstruida (predicciones de calificaciones):\n",
            "[[ 5.  3.  0.  1.]\n",
            " [ 4. -0.  0.  1.]\n",
            " [ 1.  1.  0.  5.]\n",
            " [ 0.  0.  5.  4.]\n",
            " [ 1.  0.  4. -0.]]\n",
            "\n",
            "Predicción para el usuario 1 en el producto 3: 0.00\n"
          ]
        }
      ],
      "source": [
        "import numpy as np\n",
        "\n",
        "# Matriz de calificaciones (usuarios x productos)\n",
        "# 0 indica que no hay calificación\n",
        "ratings = np.array([\n",
        "    [5, 3, 0, 1],\n",
        "    [4, 0, 0, 1],\n",
        "    [1, 1, 0, 5],\n",
        "    [0, 0, 5, 4],\n",
        "    [1, 0, 4, 0]\n",
        "])\n",
        "\n",
        "# Aplicar SVD\n",
        "U, sigma, VT = np.linalg.svd(ratings, full_matrices=False)\n",
        "\n",
        "# Convertir sigma en matriz diagonal\n",
        "sigma = np.diag(sigma)\n",
        "\n",
        "# Reconstrucción aproximada de la matriz original\n",
        "approx_ratings = np.dot(np.dot(U, sigma), VT)\n",
        "\n",
        "print(\"Matriz original (0 indica sin calificar):\")\n",
        "print(ratings)\n",
        "\n",
        "print(\"\\nMatriz reconstruida (predicciones de calificaciones):\")\n",
        "print(np.round(approx_ratings, 2))\n",
        "\n",
        "# Ejemplo: predicción para usuario 0, producto 2 (índice 0,2)\n",
        "prediccion = approx_ratings[0, 2]\n",
        "print(f\"\\nPredicción para el usuario 1 en el producto 3: {prediccion:.2f}\")"
      ]
    },
    {
      "cell_type": "code",
      "source": [
        "import numpy as np\n",
        "\n",
        "# Matriz de calificaciones\n",
        "ratings = np.array([\n",
        "    [5, 3, 0, 1],\n",
        "    [4, 0, 0, 1],\n",
        "    [1, 1, 0, 5],\n",
        "    [0, 0, 5, 4],\n",
        "    [1, 0, 4, 0]\n",
        "])\n",
        "\n",
        "# Aplicar SVD\n",
        "U, sigma, VT = np.linalg.svd(ratings, full_matrices=False)\n",
        "\n",
        "# Elegir los primeros k valores singulares (patrones más importantes)\n",
        "k = 2\n",
        "U_k = U[:, :k]\n",
        "sigma_k = np.diag(sigma[:k])\n",
        "VT_k = VT[:k, :]\n",
        "\n",
        "# Reconstrucción aproximada usando solo los k valores principales\n",
        "approx_ratings = np.dot(np.dot(U_k, sigma_k), VT_k)\n",
        "\n",
        "print(\"Matriz reconstruida (predicciones mejoradas):\")\n",
        "print(np.round(approx_ratings, 2))\n",
        "\n",
        "# Ejemplo: predicción para usuario 1, producto 3 (índice 0,2)\n",
        "prediccion = approx_ratings[0, 2]\n",
        "print(f\"\\nPredicción para el usuario 1 en el producto 3: {prediccion:.2f}\")\n"
      ],
      "metadata": {
        "id": "-goLBJC9h3VV",
        "outputId": "286d52e8-f278-4e55-ebd3-4d037ad15311",
        "colab": {
          "base_uri": "https://localhost:8080/"
        }
      },
      "execution_count": null,
      "outputs": [
        {
          "output_type": "stream",
          "name": "stdout",
          "text": [
            "Matriz reconstruida (predicciones mejoradas):\n",
            "[[ 5.01  2.13 -0.65  1.77]\n",
            " [ 3.27  1.39 -0.25  1.3 ]\n",
            " [ 2.12  0.91  1.98  2.66]\n",
            " [-0.05 -0.02  4.9   4.12]\n",
            " [ 0.07  0.03  2.31  1.99]]\n",
            "\n",
            "Predicción para el usuario 1 en el producto 3: -0.65\n"
          ]
        }
      ]
    }
  ]
}